{
 "cells": [
  {
   "cell_type": "code",
   "execution_count": 4,
   "metadata": {},
   "outputs": [],
   "source": [
    "import numpy as np\n",
    "from langchain_huggingface import HuggingFaceEmbeddings"
   ]
  },
  {
   "cell_type": "code",
   "execution_count": null,
   "metadata": {},
   "outputs": [],
   "source": [
    "import faiss\n",
    "import json"
   ]
  },
  {
   "cell_type": "code",
   "execution_count": null,
   "metadata": {},
   "outputs": [],
   "source": [
    "index = faiss.read_index(\"faiss_store/faiss_index.bin\")"
   ]
  },
  {
   "cell_type": "code",
   "execution_count": null,
   "metadata": {},
   "outputs": [],
   "source": [
    "# load and retrieve later\n",
    "with open(\"faiss_store/chunks.json\", \"r\") as f:\n",
    "    chunks = json.load(f)"
   ]
  },
  {
   "cell_type": "code",
   "execution_count": 5,
   "metadata": {},
   "outputs": [
    {
     "name": "stderr",
     "output_type": "stream",
     "text": [
      "c:\\Users\\chinm\\anaconda3\\envs\\llm_red_team\\lib\\site-packages\\torchvision\\io\\image.py:13: UserWarning: Failed to load image Python extension: Could not find module 'C:\\Users\\chinm\\anaconda3\\envs\\llm_red_team\\Lib\\site-packages\\torchvision\\image.pyd' (or one of its dependencies). Try using the full path with constructor syntax.\n",
      "  warn(f\"Failed to load image Python extension: {e}\")\n"
     ]
    }
   ],
   "source": [
    "model_name=\"intfloat/multilingual-e5-small\"\n",
    "embed_model = HuggingFaceEmbeddings(model_name=model_name, cache_folder=\"cached_models/\")"
   ]
  },
  {
   "cell_type": "code",
   "execution_count": 9,
   "metadata": {},
   "outputs": [
    {
     "name": "stdout",
     "output_type": "stream",
     "text": [
      "[[0.30702662 0.30702662 0.30901104 0.31429794 0.32596332]] [[130 216 161 163  39]]\n"
     ]
    }
   ],
   "source": [
    "# search (returns distances + indices)\n",
    "inp_query = \"the most important technological innovation in history\"\n",
    "query_embedding = embed_model.embed_query(inp_query)\n",
    "distances, indices = index.search(np.array([query_embedding]), k=5)\n",
    "\n",
    "print(distances, indices)"
   ]
  },
  {
   "cell_type": "code",
   "execution_count": 13,
   "metadata": {},
   "outputs": [
    {
     "name": "stdout",
     "output_type": "stream",
     "text": [
      "* v t e Quantum information science General DiVincenzo's criteria NISQ era Quantum computing timeline Quantum information Quantum programming Quantum simulation Qubit physical vs. logical Quantum processors cloud-based Theorems Bell's Eastin–Knill Gleason's Gottesman–Knill Holevo's No-broadcasting No-cloning No-communication No-deleting No-hiding No-teleportation PBR Quantum speed limit Threshold Solovay–Kitaev Purification Quantum communication Classical capacity entanglement-assisted quantum capacity Entanglement distillation Entanglement swapping Monogamy of entanglement LOCC Quantum channel quantum network Quantum teleportation quantum gate teleportation Superdense coding Quantum cryptography Post-quantum cryptography Quantum coin flipping Quantum money Quantum key distribution BB84 SARG04 other protocols Quantum secret sharing Quantum algorithms Amplitude amplification Bernstein–Vazirani BHT Boson sampling Deutsch–Jozsa Grover's HHL Hidden subgroup Quantum annealing Quantum counting Quantum Fourier\n",
      "========== end ==========\n",
      "* v t e Quantum information science General DiVincenzo's criteria NISQ era Quantum computing timeline Quantum information Quantum programming Quantum simulation Qubit physical vs. logical Quantum processors cloud-based Theorems Bell's Eastin–Knill Gleason's Gottesman–Knill Holevo's No-broadcasting No-cloning No-communication No-deleting No-hiding No-teleportation PBR Quantum speed limit Threshold Solovay–Kitaev Purification Quantum communication Classical capacity entanglement-assisted quantum capacity Entanglement distillation Entanglement swapping Monogamy of entanglement LOCC Quantum channel quantum network Quantum teleportation quantum gate teleportation Superdense coding Quantum cryptography Post-quantum cryptography Quantum coin flipping Quantum money Quantum key distribution BB84 SARG04 other protocols Quantum secret sharing Quantum algorithms Amplitude amplification Bernstein–Vazirani BHT Boson sampling Deutsch–Jozsa Grover's HHL Hidden subgroup Quantum annealing Quantum counting Quantum Fourier\n",
      "========== end ==========\n",
      "* v t e Electronics Branches Analogue electronics Digital electronics Electronic engineering Instrumentation Microelectronics Optoelectronics Power electronics Printed electronics Semiconductor Schematic capture Thermal management Advanced topics 2020s in computing Atomtronics Bioelectronics List of emerging electronics Failure of electronic components Flexible electronics Low-power electronics Molecular electronics Nanoelectronics Organic electronics Photonics Piezotronics Quantum electronics Spintronics Electronic equipment Air conditioner Central heating Clothes dryer Computer / Notebook Camera Dishwasher Freezer Home robot Home cinema Home theater PC Information technology Cooker Microwave oven Mobile phone Networking hardware Portable media player Radio Refrigerator Robotic vacuum cleaner Tablet Telephone Television Water heater Video game console Washing machine Applications Audio equipment Automotive electronics Avionics Control system Data acquisition e-book e-health Electromagnetic warfare Electronics\n",
      "========== end ==========\n",
      "* v t e Emerging technologies Fields Electronics E-textiles Electronic nose Flexible electronics Memristor Molecular electronics Nanoelectromechanical systems Spintronics Thermal copper pillar bump Twistronics Topics Automation Collingridge\n",
      "========== end ==========\n",
      "* Articles about Electromagnetism  Electricity Magnetism Optics History Computational Textbooks Phenomena Electrostatics Charge density Conductor Coulomb law Electret Electric charge Electric dipole Electric field Electric flux Electric potential Electrostatic discharge Electrostatic induction Gauss law Insulator Permittivity Polarization Potential energy Static electricity Triboelectricity Magnetostatics Ampère law Biot–Savart law Gauss magnetic law Magnetic dipole Magnetic field Magnetic flux Magnetic scalar potential Magnetic vector potential Magnetization Permeability Right-hand rule Electrodynamics Bremsstrahlung Cyclotron radiation Displacement current Eddy current Electromagnetic field Electromagnetic induction Electromagnetic pulse Electromagnetic radiation Faraday law Jefimenko equations Larmor formula Lenz law Liénard–Wiechert potential London equations Lorentz force Maxwell equations Maxwell tensor Poynting vector Synchrotron radiation Electrical network Alternating current Capacitance Current\n",
      "========== end ==========\n"
     ]
    }
   ],
   "source": [
    "for idx in indices[0]:\n",
    "    res = chunks[idx]\n",
    "    print(f\"* {res}\")\n",
    "    print(\"=\"*10, \"end\", \"=\"*10)"
   ]
  },
  {
   "cell_type": "code",
   "execution_count": 15,
   "metadata": {},
   "outputs": [
    {
     "name": "stdout",
     "output_type": "stream",
     "text": [
      "[[0.3357656  0.33922452 0.34719685]] [[119 148 213]]\n"
     ]
    }
   ],
   "source": [
    "# search (returns distances + indices)\n",
    "inp_query = \"understanding of information theory and its applications\"\n",
    "query_embedding = embed_model.embed_query(inp_query)\n",
    "distances, indices = index.search(np.array([query_embedding]), k=3)\n",
    "\n",
    "print(distances, indices)"
   ]
  },
  {
   "cell_type": "code",
   "execution_count": 16,
   "metadata": {},
   "outputs": [
    {
     "name": "stdout",
     "output_type": "stream",
     "text": [
      "* ^ Mead, Carver A.; Mahowald, M. A. (January 1, 1988). \"A silicon model of early visual processing %2888%2990024-X\". Neural Networks. 1 (1): 91–97. doi:10.1016/0893-6080(88)90024-X. ISSN 0893-6080.\n",
      "\n",
      "^ Furber, Steve (2016). \"Large-scale neuromorphic computing systems\". Journal of Neural Engineering. 13 (5): 1–15. Bibcode:2016JNEng..13e1001F. doi:10.1088/1741-2560/13/5/051001. PMID 27529195.\n",
      "\n",
      "^ Devineni, Anita (October 2, 2024). \"A complete map of the fruit-fly\". Nature. 634 (8032): 35–36. doi:10.1038/d41586-024-03029-6. PMID 39358530.\n",
      "\n",
      "^ Wang, Jun; Jung, Woo-Bin; Gertner, Rona; Park, Hongkun; Ham, Donhee (2025). \"Synaptic connectivity mapping among thousands of neurons via parallelized intracellular recording with a microhole electrode array\". Nature Biomedical Engineering. doi:10.1038/s41551-025-01352-5. PMID 39934437.\n",
      "========== end ==========\n",
      "* See also\n",
      "\n",
      "[edit]\n",
      "\n",
      "Stuart S. P. Parkin\n",
      "\n",
      "Electric dipole spin resonance\n",
      "\n",
      "Josephson effect\n",
      "\n",
      "Magnetoresistive random-access memory (MRAM)\n",
      "\n",
      "Magnonics\n",
      "\n",
      "Potential applications of graphene#Spintronics\n",
      "\n",
      "Rashba effect\n",
      "\n",
      "Spin pumping\n",
      "\n",
      "Spin-transfer torque\n",
      "\n",
      "Spinhenge@Home\n",
      "\n",
      "Spinmechatronics\n",
      "\n",
      "Spinplasmonics\n",
      "\n",
      "Unconventional computing\n",
      "\n",
      "Valleytronics\n",
      "\n",
      "List of emerging technologies\n",
      "\n",
      "Multiferroics\n",
      "\n",
      "References\n",
      "\n",
      "[edit]\n",
      "\n",
      "^ Wolf, S. A.; Chtchelkanova, A. Y.; Treger, D. M. (2006). \"Spintronics—A retrospective and perspective\". IBM Journal of Research and Development. 50: 101–110. doi:10.1147/rd.501.0101.\n",
      "\n",
      "^ \"Physics Profile: \"Stu Wolf: True D! Hollywood Story\"\". Archived from the original on 18 April 2011. Retrieved 11 July 2008.\n",
      "\n",
      "^ Spintronics: A Spin-Based Electronics Vision for the Future. Sciencemag.org (16 November 2001). Retrieved on 21 October 2013.\n",
      "\n",
      "^ a b Bhatti, S.; et al. (2017). \"Spintronics based random access memory: a review\". Materials Today. 20 (9): 530–548. doi:10.1016/j.mattod.2017.07.007. hdl:10356/146755.\n",
      "========== end ==========\n",
      "* ^ Trebst, Simon; Troyer, Matthias; Wang, Zhenghan; Ludwig, Andreas W. W. (2008). \"A Short Introduction to Fibonacci Anyon Models\". Progress of Theoretical Physics Supplement. 176: 384–407. arXiv:0902.3275. Bibcode:2008PThPS.176..384T. doi:10.1143/PTPS.176.384. S2CID 16880657.\n",
      "\n",
      "^ a b Nayak, Chetan (2008). \"Non-Abelian Anyons and Topological Quantum Computation\". Reviews of Modern Physics. 80 (3): 1083–1159. arXiv:0707.1889. Bibcode:2008RvMP...80.1083N. doi:10.1103/RevModPhys.80.1083. S2CID 119628297.\n",
      "\n",
      "^ Eric Paquette. Topological quantum computing with anyons, 2009. Categories, Logic and Foundations of Physics IV.\n",
      "\n",
      "^ Explicit braids that perform particular quantum computations with Fibonacci anyons have been given by Bonesteel, N. E.; Hormozi, L.; Zikos, G.; Simon, S. H.; West, K. W. (2005). \"Braid Topologies for Quantum Computation\". Physical Review Letters. 95 (14): 140503. arXiv:quant-ph/0505065. Bibcode:2005PhRvL..95n0503B. doi:10.1103/PhysRevLett.95.140503. PMID 16241636. S2CID 1246885.\n",
      "========== end ==========\n"
     ]
    }
   ],
   "source": [
    "for idx in indices[0]:\n",
    "    res = chunks[idx]\n",
    "    print(f\"* {res}\")\n",
    "    print(\"=\"*10, \"end\", \"=\"*10)"
   ]
  }
 ],
 "metadata": {
  "kernelspec": {
   "display_name": "llm_red_team",
   "language": "python",
   "name": "python3"
  },
  "language_info": {
   "codemirror_mode": {
    "name": "ipython",
    "version": 3
   },
   "file_extension": ".py",
   "mimetype": "text/x-python",
   "name": "python",
   "nbconvert_exporter": "python",
   "pygments_lexer": "ipython3",
   "version": "3.10.9"
  }
 },
 "nbformat": 4,
 "nbformat_minor": 2
}
