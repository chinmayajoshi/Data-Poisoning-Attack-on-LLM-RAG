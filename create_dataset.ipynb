{
 "cells": [
  {
   "cell_type": "markdown",
   "metadata": {},
   "source": [
    "Todo Steps:\n",
    "- links\n",
    "    - get groq to generate N interesting topics \n",
    "    - generate wikipedia urls \n",
    "- get wiki page content data\n",
    "- save as txt files"
   ]
  },
  {
   "cell_type": "markdown",
   "metadata": {},
   "source": [
    "### Generate Wiki Links via Groq"
   ]
  },
  {
   "cell_type": "code",
   "execution_count": 1,
   "metadata": {},
   "outputs": [],
   "source": [
    "import os\n",
    "api_key = os.getenv('GROQ_API_KEY')"
   ]
  },
  {
   "cell_type": "code",
   "execution_count": 2,
   "metadata": {},
   "outputs": [],
   "source": [
    "from langchain_core.prompts import ChatPromptTemplate\n",
    "from langchain_groq import ChatGroq"
   ]
  },
  {
   "cell_type": "code",
   "execution_count": 10,
   "metadata": {},
   "outputs": [],
   "source": [
    "chat = ChatGroq(temperature=0, groq_api_key=api_key, model_name=\"llama-3.3-70b-versatile\")"
   ]
  },
  {
   "cell_type": "code",
   "execution_count": 30,
   "metadata": {},
   "outputs": [
    {
     "name": "stdout",
     "output_type": "stream",
     "text": [
      "<list>\n",
      "[\n",
      "  \"https://en.wikipedia.org/wiki/FAST_(neutron_reactor)\",\n",
      "  \"https://en.wikipedia.org/wiki/Quantum_entanglement_swapping\",\n",
      "  \"https://en.wikipedia.org/wiki/Memristor\",\n",
      "  \"https://en.wikipedia.org/wiki/Nanocellulose\",\n",
      "  \"https://en.wikipedia.org/wiki/Graphene_nanosheet\",\n",
      "  \"https://en.wikipedia.org/wiki/Synthetic_biology\",\n",
      "  \"https://en.wikipedia.org/wiki/Neuromorphic_engineering\",\n",
      "  \"https://en.wikipedia.org/wiki/Spintronics\",\n",
      "  \"https://en.wikipedia.org/wiki/Topological_quantum_computer\",\n",
      "  \"https://en.wikipedia.org/wiki/Metamaterial\"\n",
      "]\n",
      "</list>\n"
     ]
    }
   ],
   "source": [
    "prompt = \"\"\"\n",
    "Generate a list of 10 wikipedia urls for interesting topics related to science and modern technology.\n",
    "Topics should have short page content.\n",
    "Output format: \n",
    "<list>\n",
    "[\n",
    "  \"https://en.wikipedia.org/wiki/[topic-1]\",\n",
    "  \"https://en.wikipedia.org/wiki/[topic-2]\",\n",
    "...\n",
    "]\n",
    "</list>\n",
    "\"\"\"\n",
    "\n",
    "response = chat.invoke(prompt)\n",
    "print(response.content)"
   ]
  },
  {
   "cell_type": "code",
   "execution_count": 31,
   "metadata": {},
   "outputs": [
    {
     "data": {
      "text/plain": [
       "str"
      ]
     },
     "execution_count": 31,
     "metadata": {},
     "output_type": "execute_result"
    }
   ],
   "source": [
    "urls = response.content.strip(\"<list>\").strip(\"</list>\").strip()\n",
    "type(urls)"
   ]
  },
  {
   "cell_type": "code",
   "execution_count": 32,
   "metadata": {},
   "outputs": [
    {
     "data": {
      "text/plain": [
       "list"
      ]
     },
     "execution_count": 32,
     "metadata": {},
     "output_type": "execute_result"
    }
   ],
   "source": [
    "urls = eval(urls)\n",
    "type(urls)"
   ]
  },
  {
   "cell_type": "code",
   "execution_count": 33,
   "metadata": {},
   "outputs": [
    {
     "data": {
      "text/plain": [
       "['https://en.wikipedia.org/wiki/FAST_(neutron_reactor)',\n",
       " 'https://en.wikipedia.org/wiki/Quantum_entanglement_swapping',\n",
       " 'https://en.wikipedia.org/wiki/Memristor',\n",
       " 'https://en.wikipedia.org/wiki/Nanocellulose',\n",
       " 'https://en.wikipedia.org/wiki/Graphene_nanosheet',\n",
       " 'https://en.wikipedia.org/wiki/Synthetic_biology',\n",
       " 'https://en.wikipedia.org/wiki/Neuromorphic_engineering',\n",
       " 'https://en.wikipedia.org/wiki/Spintronics',\n",
       " 'https://en.wikipedia.org/wiki/Topological_quantum_computer',\n",
       " 'https://en.wikipedia.org/wiki/Metamaterial']"
      ]
     },
     "execution_count": 33,
     "metadata": {},
     "output_type": "execute_result"
    }
   ],
   "source": [
    "urls"
   ]
  },
  {
   "cell_type": "markdown",
   "metadata": {},
   "source": [
    "### Get URL Content"
   ]
  },
  {
   "cell_type": "code",
   "execution_count": 21,
   "metadata": {},
   "outputs": [],
   "source": [
    "from langchain_community.document_loaders import UnstructuredURLLoader"
   ]
  },
  {
   "cell_type": "code",
   "execution_count": 34,
   "metadata": {},
   "outputs": [],
   "source": [
    "loader = UnstructuredURLLoader(urls=urls)\n",
    "data = loader.load()"
   ]
  },
  {
   "cell_type": "code",
   "execution_count": 41,
   "metadata": {},
   "outputs": [
    {
     "name": "stdout",
     "output_type": "stream",
     "text": [
      "Entanglement swapping\n",
      "\n",
      "Add links\n",
      "\n",
      "From Wikipedia, the free encyclopedia\n",
      "\n",
      "(Redirected from Quantum entanglement swapping)\n",
      "\n",
      "Quantum mechanics idea\n",
      "\n",
      "In quantum mechanics, entanglement swapping is a protocol to transfer quantum entanglement from one pair of particles to another, even if the second pair of particles have never interacted. This process may have application in quantum communication networks and quantum computing.\n",
      "\n",
      "Concept\n",
      "\n",
      "[edit]\n",
      "\n",
      "Basic principles\n",
      "\n",
      "[edit]\n",
      "\n",
      "Entanglement swapping has two pairs of entangled particles: (A, B) and (C, D). Pair of particles (A, B) is initially entangled, as is the pair (C, D). The pair (B, C) taken from the original pairs, is projected onto one of the four possible Bell states, a process called a Bell state measurement. The unmeasured pair of particles (A, D) can become entangled. This effect happens without any previous direct interaction between particles A and D.[2][3]\n",
      "\n",
      "Entanglement swapping is a form of quantum teleportation. In quantum teleportation, the unknown state of a particle can be sent from one location to another using the combination of a quantum and classical channel. The unknown state is projected by Alice onto a Bell state and the result is communicated to Bob through the classical channel.[4] In entanglement swapping, the state from one of the two sources is the quantum channel of teleportation and the state from the other source is the unknown being sent to Bob.[5]: 876\n",
      "\n",
      "Mathematical representation\n",
      "\n",
      "[edit]\n",
      "\n",
      "The mathematical expression for the swapping process is:[5]: 876\n",
      "\n",
      "{\\displaystyle \\left|\\psi \\right\\rangle _{AB}\\otimes \\left|\\psi \\right\\rangle _{CD}\\xrightarrow {{\\text{BSM}}_{BC}} \\left|\\psi \\right\\rangle _{AD}}\n",
      "\n",
      "In this expression,\n",
      "\n",
      "{\\displaystyle \\left|\\psi \\right\\rangle _{XY}}\n",
      "\n",
      "refers to an entangled state of pair of particles (X,Y) while BSM indicates Bell state measurement. A Bell state is one of four specific states of representing two particles with maximal entanglement; a Bell state measurement projects a quantum state onto this basis set.[6]: 813\n",
      "\n",
      "Potential applications\n",
      "\n",
      "[edit]\n",
      "\n",
      "Quantum cryptography\n",
      "\n",
      "[edit]\n",
      "\n",
      "In the field of quantum cryptography, it helps secure communication channels better. By utilizing swapped entanglements between particles' pairs, it is possible to generate secure encryption keys that should be protected against eavesdropping.[7]\n",
      "\n",
      "Quantum networks\n",
      "\n",
      "[edit]\n",
      "\n",
      "Entanglement swapping also serves as a core technology for designing quantum networks, where many nodes-like quantum computers or communication points-link through these special connections made by entangled links. These networks may support safely transferring quantum information over long routes.[8]\n",
      "\n",
      "Quantum repeaters and long-distance communication\n",
      "\n",
      "[edit]\n",
      "\n",
      "Entanglement swapping may allow the construction of quantum repeaters to stretch out quantum communication networks by allowing entanglement to be shared over long distances. Performing entanglement swapping at certain points acts like relaying information without loss.[9][10]\n",
      "\n",
      "History\n",
      "\n",
      "[edit]\n",
      "\n",
      "Bernard Yurke and David Stoler showed theoretically in 1992 that entanglement does not require interaction of the final measured particles.[11][5]: 876 [6]: 786 Using a three component Greenberger–Horne–Zeilinger state, they showed that Mermin's device, a thought experiment model designed to explain entanglement, was equivalent to an EPR experiment where the correlated particles had never directly interacted.[11]\n",
      "\n",
      "The term entanglement swapping was coined by physicists Marek Żukowski, Anton Zeilinger, Michael A. Horne, and Artur K. Ekert in their 1993 paper. They refined the concept to show one can extend entanglement from one particle pair to another using a method called Bell state measurement.[12]\n",
      "\n",
      "In 1998 Jian-Wei Pan working in Zeilinger's group conducted the first experiment on entanglement swapping. They used entangled photons to show successful transfer of entanglement between pairs that never interacted.[3] Later experiments took this further, making it work over longer distances and with more complex quantum states.[citation needed]\n",
      "\n",
      "References\n",
      "\n",
      "[edit]\n",
      "\n",
      "^ Hu, Xiao-Min; Guo, Yu; Liu, Bi-Heng; Li, Chuan-Feng; Guo, Guang-Can (June 2023). \"Progress in quantum teleportation\". Nature Reviews Physics. 5 (6): 339–353. Bibcode:2023NatRP...5..339H. doi:10.1038/s42254-023-00588-x. ISSN 2522-5820.\n",
      "\n",
      "^ Ji, Zhaoxu; Fan, Peiru; Zhang, Huanguo (2022). \"Entanglement swapping for Bell states and Greenberger–Horne–Zeilinger states in qubit systems\". Physica A: Statistical Mechanics and Its Applications. 585 (585): 126400. arXiv:1911.09875. Bibcode:2022PhyA..58526400J. doi:10.1016/j.physa.2021.126400.\n",
      "\n",
      "^ a b Pan, J.-W.; Bouwmeester, D.; Weinfurter, H.; Zeilinger, A. (1998). \"Experimental entanglement swapping: Entangling photons that never interacted\". Phys. Rev. Lett. 80 (18): 3891–3894. Bibcode:1998PhRvL..80.3891P. doi:10.1103/PhysRevLett.80.3891.\n",
      "\n",
      "^ Hu, Xiao-Min; Guo, Yu; Liu, Bi-Heng; Li, Chuan-Feng; Guo, Guang-Can (2023). \"Progress in quantum teleportation\". Nat. Rev. Phys. 5 (6): 339–353. Bibcode:2023NatRP...5..339H. doi:10.1038/s42254-023-00588-x. Retrieved 1 September 2024.\n",
      "\n",
      "^ a b c Horodecki, Ryszard; Horodecki, Pawel; Horodecki, Michal; Horodecki, Karol (2009). \"Quantum entanglement\". Reviews of Modern Physics. 81 (2): 865–942. arXiv:quant-ph/0702225. Bibcode:2009RvMP...81..865H. doi:10.1103/RevModPhys.81.865. S2CID 59577352.\n",
      "\n",
      "^ a b Pan, Jian-Wei; Chen, Zeng-Bing; Lu, Chao-Yang; Weinfurter, Harald; Zeilinger, Anton; Żukowski, Marek (2012-05-11). \"Multiphoton entanglement and interferometry\". Reviews of Modern Physics. 84 (2): 777–838. arXiv:0805.2853. Bibcode:2012RvMP...84..777P. doi:10.1103/RevModPhys.84.777. ISSN 0034-6861.\n",
      "\n",
      "^ Gisin, N.; Ribordy, G.; Tittel, W.; Zbinden, H. (2002). \"Quantum cryptography\" (PDF). Rev. Mod. Phys. 74 (1): 145–195. arXiv:quant-ph/0101098. Bibcode:2002RvMP...74..145G. doi:10.1103/RevModPhys.74.145.\n",
      "\n",
      "^ Lu, Chao-Yang; Yang, Tao; Pan, Jian-Wei (10 July 2009). \"Experimental Multiparticle Entanglement Swapping for Quantum Networking\". Phys. Rev. Lett. 103 (20501): 020501. Bibcode:2009PhRvL.103b0501L. doi:10.1103/PhysRevLett.103.020501. PMID 19659188. Retrieved 1 September 2024.\n",
      "\n",
      "^ Shchukin, Evgeny; van Loock, Peter (13 April 2022). \"Optimal Entanglement Swapping in Quantum Repeaters\". Phys. Rev. Lett. 128 (15): 150502. arXiv:2109.00793. Bibcode:2022PhRvL.128o0502S. doi:10.1103/PhysRevLett.128.150502. PMID 35499889. Retrieved 1 September 2024.\n",
      "\n",
      "^ Briegel, H.-J.; Dür, W.; Cirac, J. I.; Zoller, P. (1998). \"Quantum repeaters:The role of imperfect local operations in quantum messages\". Phys. Rev. Lett. 81 (26): 5932. doi:10.1103/PhysRevLett.81.5932.\n",
      "\n",
      "^ a b Yurke, Bernard; Stoler, David (1992-03-02). \"Einstein-Podolsky-Rosen effects from independent particle sources\". Physical Review Letters. 68 (9): 1251–1254. Bibcode:1992PhRvL..68.1251Y. doi:10.1103/PhysRevLett.68.1251. ISSN 0031-9007.\n",
      "\n",
      "^ Żukowski, M.; Zeilinger, A.; Horne, M. A.; Ekert, A. K. (27 December 1993). \"\"Event-ready-detectors\" Bell experiment via entanglement swapping\". Phys. Rev. Lett. 71 (26): 4287. Bibcode:1993PhRvL..71.4287Z. doi:10.1103/PhysRevLett.71.4287. Retrieved 1 September 2024.\n",
      "\n",
      "Further reading\n",
      "\n",
      "[edit]\n",
      "\n",
      "Nielsen, M.A.; Chuang, I L. (2000). Quantum Computation and Quantum Information. Cambridge University Press. ISBN 978-1-107-00217-3. OCLC 844974180.\n",
      "\n",
      "Bouwmeester, D.; Ekert, A.; Zeilinger, A. (2000). The Physics of Quantum Information: Quantum Cryptography, Quantum Teleportation, Quantum Computation. Springer. doi:10.1007/978-3-662-04209-0. ISBN 978-3-540-66778-0.\n",
      "\n",
      "External links\n",
      "\n",
      "[edit]\n",
      "\n",
      "\"Quantum Entanglement and Information\". Quantum Entanglement. Stanford Encyclopedia of Philosophy. Metaphysics Research Lab, Stanford University. 2023.\n",
      "\n",
      "\"Quantum Communication and Entanglement Swapping\". Physics World.\n",
      "\n",
      "v t e Quantum information science General DiVincenzo's criteria NISQ era Quantum computing timeline Quantum information Quantum programming Quantum simulation Qubit physical vs. logical Quantum processors cloud-based Theorems Bell's Eastin–Knill Gleason's Gottesman–Knill Holevo's No-broadcasting No-cloning No-communication No-deleting No-hiding No-teleportation PBR Quantum speed limit Threshold Solovay–Kitaev Purification Quantum communication Classical capacity entanglement-assisted quantum capacity Entanglement distillation Entanglement swapping Monogamy of entanglement LOCC Quantum channel quantum network Quantum teleportation quantum gate teleportation Superdense coding Quantum cryptography Post-quantum cryptography Quantum coin flipping Quantum money Quantum key distribution BB84 SARG04 other protocols Quantum secret sharing Quantum algorithms Amplitude amplification Bernstein–Vazirani BHT Boson sampling Deutsch–Jozsa Grover's HHL Hidden subgroup Quantum annealing Quantum counting Quantum Fourier transform Quantum optimization Quantum phase estimation Shor's Simon's VQE Quantum complexity theory BQP EQP QIP QMA PostBQP Quantum processor benchmarks Quantum supremacy Quantum volume Randomized benchmarking XEB Relaxation times T 1 T 2 Quantum computing models Adiabatic quantum computation Continuous-variable quantum information One-way quantum computer cluster state Quantum circuit quantum logic gate Quantum machine learning quantum neural network Quantum Turing machine Topological quantum computer Hamiltonian quantum computation Quantum error correction Codes CSS quantum convolutional stabilizer Shor Bacon–Shor Steane Toric gnu Entanglement-assisted Physical implementations Quantum optics Cavity QED Circuit QED Linear optical QC KLM protocol Ultracold atoms Neutral atom QC Trapped-ion QC Spin -based Kane QC Spin qubit QC NV center NMR QC Superconducting Charge qubit Flux qubit Phase qubit Transmon Quantum programming OpenQASM – Qiskit – IBM QX Quil – Forest/Rigetti QCS Cirq Q# libquantum many others... Quantum information science Quantum mechanics topics\n",
      "\n",
      "Retrieved from \"https://en.wikipedia.org/w/index.php?title=Entanglement_swapping&oldid=1275059491\"\n",
      "\n",
      "Category:\n",
      "\n",
      "Quantum computing\n",
      "\n",
      "Hidden categories:\n",
      "\n",
      "Articles with short description\n",
      "\n",
      "Short description matches Wikidata\n",
      "\n",
      "All articles with unsourced statements\n",
      "\n",
      "Articles with unsourced statements from November 2024\n"
     ]
    }
   ],
   "source": [
    "print(data[1].page_content)"
   ]
  },
  {
   "cell_type": "markdown",
   "metadata": {},
   "source": [
    "### Save as .txt"
   ]
  },
  {
   "cell_type": "code",
   "execution_count": 43,
   "metadata": {},
   "outputs": [
    {
     "data": {
      "text/plain": [
       "str"
      ]
     },
     "execution_count": 43,
     "metadata": {},
     "output_type": "execute_result"
    }
   ],
   "source": [
    "type(data[0].page_content)"
   ]
  },
  {
   "cell_type": "code",
   "execution_count": 54,
   "metadata": {},
   "outputs": [
    {
     "data": {
      "text/plain": [
       "[215, 1205, 12877, 7743, 211, 18133, 4688, 3108, 3549, 9932]"
      ]
     },
     "execution_count": 54,
     "metadata": {},
     "output_type": "execute_result"
    }
   ],
   "source": [
    "doc_word_count = [len(doc.page_content.split(\" \")) for doc in data]\n",
    "doc_word_count"
   ]
  },
  {
   "cell_type": "code",
   "execution_count": 59,
   "metadata": {},
   "outputs": [
    {
     "data": {
      "text/plain": [
       "[215, 1205, 3000, 3000, 211, 3000, 3000, 3000, 3000, 3000]"
      ]
     },
     "execution_count": 59,
     "metadata": {},
     "output_type": "execute_result"
    }
   ],
   "source": [
    "# threshold each document to 4000 words\n",
    "smaller_docs = [\" \".join(doc.page_content.split(\" \")[:3000]) for doc in data]\n",
    "small_doc_word_count = [len(doc.split(\" \")) for doc in smaller_docs]\n",
    "small_doc_word_count"
   ]
  },
  {
   "cell_type": "code",
   "execution_count": 60,
   "metadata": {},
   "outputs": [],
   "source": [
    "file_names = [url.split(\"https://en.wikipedia.org/wiki/\")[1] for url in urls]"
   ]
  },
  {
   "cell_type": "code",
   "execution_count": 63,
   "metadata": {},
   "outputs": [],
   "source": [
    "# create directory\n",
    "dir_name = \"data\"\n",
    "os.makedirs(dir_name, exist_ok=True)\n",
    "\n",
    "# save each string as a .txt file\n",
    "for i, text in enumerate(smaller_docs):\n",
    "    with open(f\"{dir_name}/{file_names[i]}.txt\", \"w\") as f:\n",
    "        f.write(text)"
   ]
  }
 ],
 "metadata": {
  "kernelspec": {
   "display_name": "llm_red_team",
   "language": "python",
   "name": "python3"
  },
  "language_info": {
   "codemirror_mode": {
    "name": "ipython",
    "version": 3
   },
   "file_extension": ".py",
   "mimetype": "text/x-python",
   "name": "python",
   "nbconvert_exporter": "python",
   "pygments_lexer": "ipython3",
   "version": "3.10.9"
  }
 },
 "nbformat": 4,
 "nbformat_minor": 2
}
