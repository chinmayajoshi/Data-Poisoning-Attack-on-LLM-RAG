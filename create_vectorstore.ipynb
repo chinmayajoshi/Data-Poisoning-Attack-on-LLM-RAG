{
 "cells": [
  {
   "cell_type": "code",
   "execution_count": null,
   "metadata": {},
   "outputs": [],
   "source": [
    "import os\n",
    "from tqdm.notebook import tqdm\n",
    "from langchain_community.document_loaders import TextLoader\n",
    "from langchain.text_splitter import RecursiveCharacterTextSplitter\n",
    "from langchain_huggingface import HuggingFaceEmbeddings"
   ]
  },
  {
   "cell_type": "code",
   "execution_count": 11,
   "metadata": {},
   "outputs": [],
   "source": [
    "import faiss\n",
    "from langchain_community.docstore.in_memory import InMemoryDocstore\n",
    "from langchain_community.vectorstores import FAISS\n",
    "\n",
    "from uuid import uuid4"
   ]
  },
  {
   "cell_type": "code",
   "execution_count": 3,
   "metadata": {},
   "outputs": [],
   "source": [
    "# load .txt files from directory\n",
    "data_dir = \"data\"\n",
    "docs = [TextLoader(f\"{data_dir}/{file}\").load()[0] for file in os.listdir(data_dir) if file.endswith(\".txt\")]"
   ]
  },
  {
   "cell_type": "code",
   "execution_count": 4,
   "metadata": {},
   "outputs": [],
   "source": [
    "# split text into chunks\n",
    "splitter = RecursiveCharacterTextSplitter(chunk_size=1024, chunk_overlap=128)\n",
    "all_splits = [split for doc in docs for split in splitter.split_documents([doc])]"
   ]
  },
  {
   "cell_type": "code",
   "execution_count": 5,
   "metadata": {},
   "outputs": [
    {
     "data": {
      "text/plain": [
       "221"
      ]
     },
     "execution_count": 5,
     "metadata": {},
     "output_type": "execute_result"
    }
   ],
   "source": [
    "len(all_splits)"
   ]
  },
  {
   "cell_type": "markdown",
   "metadata": {},
   "source": [
    "Use Huggingface Embeddings: [multilingual-e5-small](https://huggingface.co/intfloat/multilingual-e5-small)"
   ]
  },
  {
   "cell_type": "code",
   "execution_count": 6,
   "metadata": {},
   "outputs": [
    {
     "name": "stderr",
     "output_type": "stream",
     "text": [
      "c:\\Users\\chinm\\anaconda3\\envs\\llm_red_team\\lib\\site-packages\\torchvision\\io\\image.py:13: UserWarning: Failed to load image Python extension: Could not find module 'C:\\Users\\chinm\\anaconda3\\envs\\llm_red_team\\Lib\\site-packages\\torchvision\\image.pyd' (or one of its dependencies). Try using the full path with constructor syntax.\n",
      "  warn(f\"Failed to load image Python extension: {e}\")\n"
     ]
    }
   ],
   "source": [
    "model_name=\"intfloat/multilingual-e5-small\"\n",
    "embed_model = HuggingFaceEmbeddings(model_name=model_name, cache_folder=\"cached_models/\")"
   ]
  },
  {
   "cell_type": "code",
   "execution_count": null,
   "metadata": {},
   "outputs": [],
   "source": [
    "# generate embeddings with progress bar\n",
    "# embeddings = [embed_model.embed_documents([chunk.page_content]) for chunk in tqdm(all_splits, desc=\"Embedding Chunks\")]"
   ]
  },
  {
   "cell_type": "code",
   "execution_count": 7,
   "metadata": {},
   "outputs": [],
   "source": [
    "index = faiss.IndexFlatL2(len(embed_model.embed_query(\"sample query\")))"
   ]
  },
  {
   "cell_type": "code",
   "execution_count": 8,
   "metadata": {},
   "outputs": [],
   "source": [
    "vector_store = FAISS(\n",
    "    embedding_function=embed_model,\n",
    "    index=index,\n",
    "    docstore=InMemoryDocstore(),\n",
    "    index_to_docstore_id={},\n",
    ")"
   ]
  },
  {
   "cell_type": "code",
   "execution_count": 12,
   "metadata": {},
   "outputs": [],
   "source": [
    "uuids = [str(uuid4()) for _ in range(len(all_splits))]"
   ]
  },
  {
   "cell_type": "code",
   "execution_count": 13,
   "metadata": {},
   "outputs": [
    {
     "data": {
      "text/plain": [
       "['d421e8dc-9663-4f24-a094-e319a3cf7813',\n",
       " 'b6fb752a-1603-49e7-9e96-d0ec474b93b7',\n",
       " '9227460d-37d8-44ee-8f8a-9c390246aed2',\n",
       " '2bc0ae08-fc35-494d-ac50-94189f168124',\n",
       " 'fd00767f-19c9-4691-8808-0a7efc70241a',\n",
       " 'e4abfbe6-b37a-41ef-a92b-299278f5926a',\n",
       " '0761d493-841d-40cc-b388-67387b99b5ce',\n",
       " 'befd5428-a075-4203-b262-16a4c7a71288',\n",
       " '9b56ee61-90c4-4a67-a210-f15efa6ba9cc',\n",
       " 'b183a989-03bd-4e64-a847-295fa0c36c56',\n",
       " '4e27e995-1361-4f79-828b-0cd4f21a8163',\n",
       " '00b48f2c-ef09-4123-819a-7741b4c4614d',\n",
       " '5e887fac-dfc7-4de2-8ecc-0a4f4fd07311',\n",
       " '1d6c0dfc-8130-4fb1-91c4-797afb249981',\n",
       " 'd2f60873-4a89-4a89-82bf-e29866c69fd8',\n",
       " '59e62d13-b923-4552-a528-d15c7a01cd0b',\n",
       " '407d3040-1346-4c87-a0dc-3ff667e409b3',\n",
       " '32f9351a-0b8f-437a-a29d-bad3a27db8a9',\n",
       " 'f193277f-fe2d-4ad8-b8ca-4c3e17ae02dc',\n",
       " '3ce01b87-6b77-4ebe-ba9d-c520d97f7770',\n",
       " '9e067f20-9ce9-42bc-8abd-7ccfc9f35952',\n",
       " '49669887-1a54-4cbd-9425-06ea44630b46',\n",
       " '78659644-6394-4726-826f-45ea95f4e5da',\n",
       " 'c1c9664d-e6d5-47c3-ab54-4309600bdbda',\n",
       " '03c4de3d-0d2f-4a61-9516-763c91311e36',\n",
       " 'c26e9c81-251c-40eb-a51e-bd7b6df5c3d9',\n",
       " 'd85ac589-dae2-4a59-b77a-35b57987a10e',\n",
       " '5e8703ac-8b5f-4393-bd88-e86a87cd3002',\n",
       " '1b449df2-0804-4806-b4f6-431aef5e5f7d',\n",
       " '4d1193b3-8bf2-400a-ae2f-8c5e1cde68a5',\n",
       " 'bb75984f-8efc-4306-90c2-2f586bd41754',\n",
       " '12ffe807-3c6b-4b2b-aa0a-452d83c813f5',\n",
       " 'f15662e4-189e-4601-86c7-07335174b769',\n",
       " 'b71b4fbf-7aa6-4e04-8566-afeff17de979',\n",
       " '4ea83ae6-794f-4006-899a-1309f5f37ab8',\n",
       " 'f5ba56dd-d8b5-40df-98cb-5c8d39e882e8',\n",
       " '6d439e3c-a2f3-45ca-9364-58facc9791d6',\n",
       " '74bfae90-bd7f-4610-ad2b-290e5c18c128',\n",
       " 'd096acd7-22b0-420a-b4f6-4c54feb60bf5',\n",
       " '61aad572-e325-4d75-af16-9de0e4d6c734',\n",
       " 'eecd3b6e-11d3-46ff-a2f6-bb2bcaf1aa8a',\n",
       " 'e30c84fd-56a9-4f9a-a02b-a38d8ee69cb0',\n",
       " '5fb3568b-5f42-4e28-85e8-3a53812f9ac9',\n",
       " '1b15e569-9e54-4560-990b-7ec3855e4c5f',\n",
       " 'e6612b69-7496-4ec4-9526-6bd198e92d21',\n",
       " 'f1ba95bd-90b9-42ab-9129-9cfc2722337a',\n",
       " '09850e0d-51a9-4060-afd3-0e84451f1ae9',\n",
       " 'ccd707d0-58c3-46cc-b0c9-853d09bb06e9',\n",
       " '3abe3ae5-e73a-4ace-931a-d7834d13cacd',\n",
       " 'b316fea3-2236-474c-b12e-3d43d355c997',\n",
       " '8aae8e7c-7306-4958-8700-bb581040faea',\n",
       " '202b0215-dadc-4bd0-a808-54619f153d6d',\n",
       " '5fcf4731-ae1d-4c81-bb8e-86cd0b82d772',\n",
       " '0a598827-efa7-4877-9d56-2488103edd08',\n",
       " '31125a3f-0e40-4962-ade6-7062115ec26b',\n",
       " 'c3ed1418-c325-476e-8997-38c4053fb6ac',\n",
       " '6111a3b4-7bb6-4b97-a513-ef9261e76106',\n",
       " 'c1ee73c6-e3a0-4759-a1e3-14e8eefe43c8',\n",
       " 'dd1ab3e8-4525-4d3c-a3ae-40baea846d6f',\n",
       " 'e9fa7b3d-2dac-465a-9b44-07faa4e6c5f4',\n",
       " '11e5ac45-4b98-49a2-ab4e-6b1c84487792',\n",
       " '9dd984fc-ca39-495d-b78c-dfd11a66bf62',\n",
       " 'fca7d78a-7954-4d61-96ef-2db0bf1f8ac0',\n",
       " 'dc31f4b0-f6e0-4989-a81e-c886eaad0a15',\n",
       " '2b929a6d-0d77-43f2-9634-90e1150a8cbe',\n",
       " '3a8277fe-7996-440e-9fea-de9971ccf0a9',\n",
       " 'dac1349f-87cc-4a98-8ea1-c8153ac8dc2b',\n",
       " '059dcc99-9010-4942-bb93-e62cb1bcd091',\n",
       " 'a0ebb959-a955-4c09-94d5-f47831ba439f',\n",
       " '857be644-aff7-446b-862f-fa977c5386ec',\n",
       " '9a96d361-a1df-4b44-b974-e9bb69dd2cc3',\n",
       " '9342dd75-51aa-4678-a76b-fef44f169562',\n",
       " '92a88f0f-2d3d-44b9-89d6-bc13174c12c3',\n",
       " '2ddea090-bac9-4b97-8450-ec96aee91bc9',\n",
       " 'ef8715f4-bcba-4706-b1ad-1245fdc1c6ef',\n",
       " '584e032d-e588-4582-9a5e-f5f6ec0f421a',\n",
       " '5b099b91-f4d2-418d-b97b-564e0b566015',\n",
       " '50a96254-6841-4154-aa4a-aab5009f8436',\n",
       " 'ec68a65c-3a7a-407c-8adc-81e4dfd4bc0b',\n",
       " 'a6a16d46-b87d-4170-9b4e-3433b22ff5a0',\n",
       " 'dc6122a4-2032-4905-b58b-6514c0e4d8fe',\n",
       " 'fcd0bd20-e4e8-4ee9-8b28-c2c8e0d1d331',\n",
       " 'c920fef7-9c36-459d-8edb-6d018ac33cca',\n",
       " '10d538f5-668a-44ba-a32d-41b104a96882',\n",
       " 'c50d1bf0-2399-49f4-a5b4-8a72cf7377fb',\n",
       " '48ceb91f-caef-4656-8e8f-a08b98e3351d',\n",
       " '300fee02-794a-417d-a9b6-2af5154d270d',\n",
       " 'c1be55d4-c12c-43fe-833f-a820932dfff3',\n",
       " '8645e88c-810e-4ad3-83ce-32710ec759a8',\n",
       " 'ae5020f5-de3c-482a-a663-a57102574bdb',\n",
       " '2e51988c-94f4-4fd7-8831-68077b648e7a',\n",
       " '4bda261c-ac9e-461f-bf27-1b9427f3eba7',\n",
       " 'e900e104-bc59-4570-b8dd-ba3d9786b75c',\n",
       " 'ce6c2acf-6f10-442c-b82d-c60ce6d46070',\n",
       " 'd18da59f-bbb8-48a3-ba32-b7466b6bfcc7',\n",
       " '2b3e607a-07a7-4a49-a204-cbb45e594216',\n",
       " '7808c97e-7050-4241-adce-cc3852bf4900',\n",
       " '726b0b39-3ccc-4040-aa14-abf2b7ca795f',\n",
       " 'd03639bf-4374-458a-a4e4-a88c11e84011',\n",
       " '1f976132-b763-4997-b70a-9f6ceb9ccc05',\n",
       " '34b71444-21d6-462a-8d82-10ef26fe0c68',\n",
       " '3c2bb947-d173-4140-86fb-6cbffd437085',\n",
       " '1c241756-f8b6-40e9-87c6-d6db1a4d2fa3',\n",
       " '1dc0cc33-4fe8-47a6-b3a7-36c39fe2fa71',\n",
       " 'e3b00067-be75-4698-bf83-da7970883053',\n",
       " 'd219f51b-70bb-4a95-9644-96a037a71e14',\n",
       " 'c8df730d-a07c-4fe6-831f-82673581edd0',\n",
       " '0da13a04-7a29-492e-bda9-95da8f0055b9',\n",
       " 'd63ac720-8bed-434f-901e-d5448be49740',\n",
       " 'd8620a08-38bd-48e0-bcd8-08e8bd23885d',\n",
       " 'a299220b-29d5-4ddf-96a6-c0990627ba12',\n",
       " '13cd9306-8b76-4731-b6f3-d1d04d12e3e6',\n",
       " '67c7d205-ed60-4017-82af-46bd85eaa266',\n",
       " '80be8459-3901-4f78-a346-50ca8f560ad5',\n",
       " 'a80f8e00-7ee1-47f6-8eb1-603fa1eb9d65',\n",
       " '9829bc93-1ba4-4d21-ad81-87f7b5102c64',\n",
       " 'b9d9cc1a-5cee-4de1-9df7-8fd7210e02c2',\n",
       " '73135e1e-ac8f-47c7-8e0d-2d3c8d4f8e15',\n",
       " '488db784-7870-4e58-870e-c8b1a6c72d9f',\n",
       " 'e6957501-9f6d-4847-aec3-621b550dfb70',\n",
       " '52e36f2b-96ce-4e07-97e1-51f9607e9061',\n",
       " '671bb0d2-bab5-4e4a-8d97-e4652219dcd4',\n",
       " 'e3157833-bedf-4052-9deb-a42df824f03d',\n",
       " '1a7a0a85-5e48-4ee8-ba29-8230a48b9574',\n",
       " 'e5487537-fee3-4aeb-86e2-37cebb66d51b',\n",
       " '6ad3f045-d629-4f14-aa3c-f5ec1b1fa572',\n",
       " '651e40f6-eb3d-4307-98a2-7b928b4b04e9',\n",
       " '422d4310-76b7-4735-bb3d-9e4b88b3c22a',\n",
       " '74cbfcc6-cdaf-4997-a330-a428824c75a2',\n",
       " 'f32211e5-4c39-4202-89a5-337263a192cc',\n",
       " '99e1b0b9-5fd9-425d-8ace-cf347e7e159d',\n",
       " 'e3b3988d-e4ae-4d97-9bc5-4adad515c6d4',\n",
       " 'ec89c127-ccf5-4d6d-94a6-456eff9f8fcc',\n",
       " 'cb2c9948-fb59-43a7-8380-3749e992e3c6',\n",
       " '94fa3b2d-eaba-4df1-9d7f-90727ff9ff6e',\n",
       " '21087e16-03c8-4542-a23f-838e2f873882',\n",
       " 'f81e0c80-3ff6-42bb-8496-bef6a190497c',\n",
       " 'cadfdfaf-3235-4b04-9fea-7a907d657caf',\n",
       " '90d95e7a-9be4-4d86-8de1-c020922437c0',\n",
       " 'd57078fe-122f-4876-a2fd-1c3179f957ea',\n",
       " 'c269b636-5648-414e-9898-713ae5ea7e47',\n",
       " 'd041e4aa-537e-4053-b9a2-f6e0c6aeee54',\n",
       " 'acf168b6-c1ac-4601-a56c-4ca6d5810fd6',\n",
       " '094c0786-d38e-44c8-93c6-0b670108d504',\n",
       " '02a89399-6f62-491b-a4ff-7a48e6d37354',\n",
       " '4219f760-25dc-40f9-8778-d099282b8ddf',\n",
       " '1ecc30d5-794e-46ba-bc9b-54987ba73c29',\n",
       " '005a25d2-46be-4dab-9350-4780f72ce0b1',\n",
       " '51fa1af7-dd80-44c9-8d37-406a8b5cc239',\n",
       " '99b788ef-deee-4acf-8104-b380b1d4bc04',\n",
       " '7d924a85-1aaa-4d94-be07-9e56fab9efbb',\n",
       " '0e6158a2-c8c2-40c4-8f60-a71b41aa5b96',\n",
       " '79fc880e-3ea2-4c65-a539-01699878df88',\n",
       " 'ab1c6c18-788a-4629-a65c-eac83fe5e4aa',\n",
       " 'bd5a416e-3393-4fd2-b807-9f66b61c90de',\n",
       " '5c2e5a86-8c6d-4845-813b-f3820aca6df4',\n",
       " '0f76d2b1-1132-4ecc-ba44-da4d3d83bc8a',\n",
       " '518fbec7-dda5-4e79-a276-d89fc425ba6d',\n",
       " '8e558381-c3bb-4807-b2ca-5fe4d0188340',\n",
       " '4402f3c5-1bc6-460b-b9a2-d01758ed7f23',\n",
       " 'c9d2acbc-3214-4405-a262-29e3c5cf1549',\n",
       " '926ce3d4-efe0-4d85-a83b-7a0099bb9ee0',\n",
       " '1aed82e0-265f-47c6-a9ce-28494734b328',\n",
       " '9ded96f0-eecf-408e-9ddb-a4ece7ab9388',\n",
       " '7ef989bd-deba-43da-8db7-d58c5b47b4ed',\n",
       " '311c972c-21b9-4232-b8f1-09dab1e77430',\n",
       " '7938603c-4642-4f60-aca6-6aefe395d0d6',\n",
       " 'b3aedc4a-6c9e-4458-9db9-41b330fdf091',\n",
       " 'b6c88258-154f-4110-b029-5d9d505656bd',\n",
       " 'dae52ab8-6a1c-417d-a6f2-e7ebbec525e4',\n",
       " '55ab89d9-34ce-4de0-8e6b-16ec83c496ff',\n",
       " 'eab929cb-3411-4c9f-8cf3-76716ba2d579',\n",
       " '2370d483-f547-4274-9d6b-6d80977ca45b',\n",
       " 'a6811c6a-1210-42fe-8205-5d15ea2695ad',\n",
       " 'e951cac9-4615-4a19-9afe-07245770825f',\n",
       " '166434bd-a2ae-46cf-97c8-1e39bc8ee053',\n",
       " 'f5bca783-d0bb-4838-b8c5-47f9a28c8cf3',\n",
       " 'f920b6ad-8884-4eaf-9265-d06a181475d7',\n",
       " '16661654-ad5c-49b8-b6a4-f5e1c9d4655c',\n",
       " 'f5988731-42ff-4546-8632-5d3e17e59975',\n",
       " '4debebec-0cea-4260-a108-38ec43f79cb5',\n",
       " '9e023ef6-1af0-44ac-8926-eee04afb1349',\n",
       " 'e4d5743f-1127-4526-85da-045dfd9f69df',\n",
       " 'e33423b9-fdc4-4bc2-ba7b-68005736090a',\n",
       " '81bb1356-0c51-4aea-9edd-d3cc9ad538ee',\n",
       " '497f1133-65d5-4964-803c-02159243b42a',\n",
       " '12bf973c-7f66-424c-a8d8-2a3f270e8584',\n",
       " '9579ca86-43be-42f8-bcd7-ec437b7af704',\n",
       " '6da10e2d-8348-412c-8989-8f9fd7fb0c4b',\n",
       " 'f13b8d87-4761-4d56-91c1-4a30ee16ad47',\n",
       " 'd4a8d319-2d99-4683-bffc-cb0eba0bcd89',\n",
       " 'c8a76c89-3822-48c1-8d98-ed4398626953',\n",
       " '950cc3a1-29bd-4356-8974-1f3f74addf39',\n",
       " '88d2087d-66a7-4608-9a42-47b769d43f95',\n",
       " '8a031a48-de74-4fbd-9ca5-6ec7686b44cf',\n",
       " '7762f8b4-e9f2-4763-b393-af8177c486cd',\n",
       " '579ba71b-5331-4e1a-8a22-4aab82c8cfb1',\n",
       " '84edb76f-a206-4776-845e-7f1facce46e5',\n",
       " '9b9b1064-29e7-473b-bd97-55dc75d538bf',\n",
       " '54bc216d-9d56-432f-8eb5-61907ad9101d',\n",
       " 'b494ab2b-0073-4032-907a-cd293bb7869c',\n",
       " 'a6b288a1-5321-46e7-8fdd-23459aaec969',\n",
       " '6ed3730f-8c08-4e01-8408-6674544443f2',\n",
       " '1da38447-f887-4e25-bb73-e2c20ba283d2',\n",
       " 'a5c4e86d-cb96-456d-a317-77a71116f395',\n",
       " '9c82b976-946b-4a63-99b7-9a1c3b5377d3',\n",
       " 'a0ed05ef-316c-4e1b-9f7a-6862cc54fb2a',\n",
       " 'cbe531c2-ffb5-4b57-aea4-13b5845de74b',\n",
       " '98323999-6695-47bd-8ae9-f96bab197f07',\n",
       " '3281184d-f272-4c4c-846d-f635beefb929',\n",
       " '6b374eca-02b2-4762-9ede-3a872019b77c',\n",
       " '59cc5305-3b0d-4279-a37d-ea0969b2dc54',\n",
       " 'a8cc553d-d9e7-4b1b-9839-cc4e1963f852',\n",
       " '5556f6ce-e948-42f5-909c-60fda3535390',\n",
       " 'e16a9513-f8f7-4d3b-b0fa-3ae066a9693e',\n",
       " 'a3be28d2-c09d-450b-a0fb-fe8507ded500',\n",
       " '6e5ee17d-954b-4a1c-97c3-acd1a46a70b8',\n",
       " '16567c84-eca9-4c19-98e4-49e92ec50375',\n",
       " '233d9f19-5838-429d-9121-9f1be437f026',\n",
       " '017016e7-bb80-4d87-8474-115af90681d4',\n",
       " 'f3f02836-0f36-4f0d-99be-b6f7d7ce9b02']"
      ]
     },
     "execution_count": 13,
     "metadata": {},
     "output_type": "execute_result"
    }
   ],
   "source": [
    "vector_store.add_documents(documents=all_splits, ids=uuids)"
   ]
  },
  {
   "cell_type": "markdown",
   "metadata": {},
   "source": [
    "Query"
   ]
  },
  {
   "cell_type": "code",
   "execution_count": 15,
   "metadata": {},
   "outputs": [
    {
     "name": "stdout",
     "output_type": "stream",
     "text": [
      "* 한국어\n",
      "\n",
      "Tiếng Việt\n",
      "\n",
      "Edit links\n",
      "\n",
      "From Wikipedia, the free encyclopedia\n",
      "\n",
      "Type of quantum computer\n",
      "\n",
      "A topological quantum computer is a type of quantum computer. It utilizes anyons, a type of quasiparticle that occurs in two-dimensional systems. The anyons' world lines intertwine to form braids in a three-dimensional spacetime (one temporal and two spatial dimensions). The braids act as the logic gates of the computer. The primary advantage of using quantum braids over trapped quantum particles is in their stability. While small but cumulative perturbations can cause quantum states to decohere and introduce errors in traditional quantum computations, such perturbations do not alter the topological properties of the braids. This stability is akin to the difference between cutting and reattaching a string to form a different braid versus a ball (representing an ordinary quantum particle in four-dimensional spacetime) colliding with a wall. It was proposed by Russian-American physicist Alexei Kitaev in 1997.[2] [{'source': 'data/Topological_quantum_computer.txt'}]\n",
      "* Computations\n",
      "\n",
      "[edit]\n",
      "\n",
      "To live up to its name, a topological quantum computer must provide the unique computation properties promised by a conventional quantum computer design, which uses trapped quantum particles. In 2000, Michael H. Freedman, Alexei Kitaev, Michael J. Larsen, and Zhenghan Wang proved that a topological quantum computer can, in principle, perform any computation that a conventional quantum computer can do, and vice versa.[13][14][15] [{'source': 'data/Topological_quantum_computer.txt'}]\n"
     ]
    }
   ],
   "source": [
    "results = vector_store.similarity_search(\n",
    "    \"What is the core of quantum computing?\",\n",
    "    k=2,\n",
    ")\n",
    "for res in results:\n",
    "    print(f\"* {res.page_content} [{res.metadata}]\")"
   ]
  },
  {
   "cell_type": "code",
   "execution_count": 16,
   "metadata": {},
   "outputs": [
    {
     "name": "stdout",
     "output_type": "stream",
     "text": [
      "* v t e Quantum information science General DiVincenzo's criteria NISQ era Quantum computing timeline Quantum information Quantum programming Quantum simulation Qubit physical vs. logical Quantum processors cloud-based Theorems Bell's Eastin–Knill Gleason's Gottesman–Knill Holevo's No-broadcasting No-cloning No-communication No-deleting No-hiding No-teleportation PBR Quantum speed limit Threshold Solovay–Kitaev Purification Quantum communication Classical capacity entanglement-assisted quantum capacity Entanglement distillation Entanglement swapping Monogamy of entanglement LOCC Quantum channel quantum network Quantum teleportation quantum gate teleportation Superdense coding Quantum cryptography Post-quantum cryptography Quantum coin flipping Quantum money Quantum key distribution BB84 SARG04 other protocols Quantum secret sharing Quantum algorithms Amplitude amplification Bernstein–Vazirani BHT Boson sampling Deutsch–Jozsa Grover's HHL Hidden subgroup Quantum annealing Quantum counting Quantum Fourier [{'source': 'data/Quantum_entanglement_swapping.txt'}]\n",
      "========== end ==========\n",
      "* v t e Quantum information science General DiVincenzo's criteria NISQ era Quantum computing timeline Quantum information Quantum programming Quantum simulation Qubit physical vs. logical Quantum processors cloud-based Theorems Bell's Eastin–Knill Gleason's Gottesman–Knill Holevo's No-broadcasting No-cloning No-communication No-deleting No-hiding No-teleportation PBR Quantum speed limit Threshold Solovay–Kitaev Purification Quantum communication Classical capacity entanglement-assisted quantum capacity Entanglement distillation Entanglement swapping Monogamy of entanglement LOCC Quantum channel quantum network Quantum teleportation quantum gate teleportation Superdense coding Quantum cryptography Post-quantum cryptography Quantum coin flipping Quantum money Quantum key distribution BB84 SARG04 other protocols Quantum secret sharing Quantum algorithms Amplitude amplification Bernstein–Vazirani BHT Boson sampling Deutsch–Jozsa Grover's HHL Hidden subgroup Quantum annealing Quantum counting Quantum Fourier [{'source': 'data/Topological_quantum_computer.txt'}]\n",
      "========== end ==========\n",
      "* v t e Electronics Branches Analogue electronics Digital electronics Electronic engineering Instrumentation Microelectronics Optoelectronics Power electronics Printed electronics Semiconductor Schematic capture Thermal management Advanced topics 2020s in computing Atomtronics Bioelectronics List of emerging electronics Failure of electronic components Flexible electronics Low-power electronics Molecular electronics Nanoelectronics Organic electronics Photonics Piezotronics Quantum electronics Spintronics Electronic equipment Air conditioner Central heating Clothes dryer Computer / Notebook Camera Dishwasher Freezer Home robot Home cinema Home theater PC Information technology Cooker Microwave oven Mobile phone Networking hardware Portable media player Radio Refrigerator Robotic vacuum cleaner Tablet Telephone Television Water heater Video game console Washing machine Applications Audio equipment Automotive electronics Avionics Control system Data acquisition e-book e-health Electromagnetic warfare Electronics [{'source': 'data/Spintronics.txt'}]\n",
      "========== end ==========\n",
      "* v t e Emerging technologies Fields Electronics E-textiles Electronic nose Flexible electronics Memristor Molecular electronics Nanoelectromechanical systems Spintronics Thermal copper pillar bump Twistronics Topics Automation Collingridge [{'source': 'data/Spintronics.txt'}]\n",
      "========== end ==========\n",
      "* Articles about Electromagnetism  Electricity Magnetism Optics History Computational Textbooks Phenomena Electrostatics Charge density Conductor Coulomb law Electret Electric charge Electric dipole Electric field Electric flux Electric potential Electrostatic discharge Electrostatic induction Gauss law Insulator Permittivity Polarization Potential energy Static electricity Triboelectricity Magnetostatics Ampère law Biot–Savart law Gauss magnetic law Magnetic dipole Magnetic field Magnetic flux Magnetic scalar potential Magnetic vector potential Magnetization Permeability Right-hand rule Electrodynamics Bremsstrahlung Cyclotron radiation Displacement current Eddy current Electromagnetic field Electromagnetic induction Electromagnetic pulse Electromagnetic radiation Faraday law Jefimenko equations Larmor formula Lenz law Liénard–Wiechert potential London equations Lorentz force Maxwell equations Maxwell tensor Poynting vector Synchrotron radiation Electrical network Alternating current Capacitance Current [{'source': 'data/Metamaterial.txt'}]\n",
      "========== end ==========\n"
     ]
    }
   ],
   "source": [
    "results = vector_store.similarity_search(\n",
    "    \"the most important technological innovation in history\",\n",
    "    k=5,\n",
    ")\n",
    "for res in results:\n",
    "    print(f\"* {res.page_content} [{res.metadata}]\")\n",
    "    print(\"=\"*10, \"end\", \"=\"*10)"
   ]
  },
  {
   "cell_type": "code",
   "execution_count": null,
   "metadata": {},
   "outputs": [],
   "source": [
    "faiss.write_index(index, \"faiss_store/faiss_index.bin\")"
   ]
  },
  {
   "cell_type": "code",
   "execution_count": null,
   "metadata": {},
   "outputs": [],
   "source": [
    "import json\n",
    "\n",
    "with open(\"faiss_store/chunks.json\", \"w\") as f:\n",
    "    json.dump([chunk.page_content for chunk in all_splits], f)"
   ]
  }
 ],
 "metadata": {
  "kernelspec": {
   "display_name": "llm_red_team",
   "language": "python",
   "name": "python3"
  },
  "language_info": {
   "codemirror_mode": {
    "name": "ipython",
    "version": 3
   },
   "file_extension": ".py",
   "mimetype": "text/x-python",
   "name": "python",
   "nbconvert_exporter": "python",
   "pygments_lexer": "ipython3",
   "version": "3.10.9"
  }
 },
 "nbformat": 4,
 "nbformat_minor": 2
}
